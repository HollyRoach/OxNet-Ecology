{
 "cells": [
  {
   "cell_type": "markdown",
   "id": "1c3fa12c-1bb5-438b-9500-8f927b82080b",
   "metadata": {},
   "source": [
    "# Analysis of Ecological Data"
   ]
  },
  {
   "cell_type": "markdown",
   "id": "e2471ac1-0c8b-4003-84ca-38a76ad792f4",
   "metadata": {
    "tags": []
   },
   "source": [
    "This practical is going to use the **generalised linear mixed effects models** and **linear mixed effects models** you have already learnt about to analyse some data (that I collected during my Master's!) from the field. \n",
    "\n",
    "### Background \n",
    "\n",
    "#### *Ae. albopictus* overview \n",
    "\n",
    "This study is based on the mosquito *Aedes albopictus*, also known as the \"tiger mosquito\" due to its stripes. *Ae. aegypti* poses a public health threat, as it is a vector of multiple harmful diseases, such as dengue and Zika Virus. Furthermore, *Ae. albopictus* is a highly invasive species with high ecological plasticity (the ability to to exploit new resources) and physiological plasticity (the ability to physiologically adjust to temperature variation). These traits have allow *Ae. aegypti* to undergo range expansion and persist following environmental modification. In turn, this increase the burden on public healthcare  of diseases carried by *Ae. albopictus*.  As many of the diseases carried by this species have no vaccine, specific treatment or cure, public health interventions rely on controlling the population size of *Ae. albopictus*. \n",
    "\n",
    "<img src=\"albopictus_image.jpeg\" style = \"width:300px; height: 200px\"/>\n",
    "\n",
    "#### Impact of climate on *Ae. albopictus* population size \n",
    "\n",
    "The mosquito lifcycle has 4 key steps: eggs, larva (juvenille mobile aquatic stage), pupa (less active aquatic stage, floats at the surface of the water), adult. As the mosquito life cycle have two aquatic stages, the availability of aquatic habitats influences adult density. The types of aquatic habitats exploited by *Ae. albopictus* depend on the land use type.  In natural habitats, tree holes and bamboo stumps etc. act as aquatic habitats and in urban areas, artificial containers such as tyres and water storage containers are used. *Ae. albopictus* prefer artificial larval habitats.\n",
    "\n",
    "<img src=\"lifecycle.png\" style = \"width:300px; height: 300px\"/>\n",
    "\n",
    "The availability of aquatic habitats is an **unstable** abiotic factor, due to variation in the amount of rainfall and the availability of water vessels. In natural habitats, when there is less rainfall (e.g. during a period of drought), there is a decrease in the number of larval habitats. This is because, the lack of rainfall results in no new larval habitats being formed, and established larval habitats drying out. \n",
    "\n",
    "However, this relationship is **more complex** in developing urban areas, where periods of drought can increase the number of larval habitats. This is because, a lack of reliable piped water supply during droughts can increase water storage in buckets, and other open water containers (i.e. containers without a lid). These containers can then act as **larval habitats** for mosquitoes. Thus, periods of drought can result in a surge in the population size of (potentially disease-carrying) mosquitoes in developing urban areas, which can facilitate epidemics. \n",
    "\n",
    "El Nino southern oscillation events cause the strongest natural, interannual, fluctuations in climate, and cause droughts in many regions. \n",
    "\n",
    "### Key Question and Hypothesis \n",
    "\n",
    "**Question: How does land use impact larval and adult *Ae. albopictus* populations during a drought?**\n",
    "\n",
    "**Hypotheses**\n",
    "In comparison to Natural sites, Human settlements will have:\n",
    "1) More larval habitats \n",
    "2) A greater abundance of *Ae. albopictus* larvae \n",
    "3) A higher density of *Ae. albopictus* adults  \n",
    "\n",
    "### Methods \n",
    "\n",
    "#### Study Site \n",
    "\n",
    "The study was conducted at the Stability of Altered Forest Ecosystems (SAFE) Project (https://www.safeproject.net/) in Malaysian Borneo, during an El Nino drought (2019). The SAFE Project is one of the largest ecological experiments in the world, looking at how biodiversity and ecosystem function change as forests are modified by human activities. \n",
    "\n",
    "The diagram below represents the study sites at the SAFE project. Within this study, two land types were compared: human settlements and natural sites. The human settlements surveyed were within either a logged forest or oil palm landscape. The natural sites were in twice-logged forest, which is either continuous or fragmented. 4 replicates were conducted for each land sub type. \n",
    "\n",
    "<img src=\"SAFE.png\" style = \"width:700px; height: 300px\"/>\n",
    "\n",
    "#### The Surveys \n",
    "\n",
    "The hypotheses were tested by conducting 3 surveys at each replicate: \n",
    "1) Aquatic habitat survey \n",
    "2) Larval survey \n",
    "3) Adult population surveillance \n",
    "\n",
    "**1) Aquatic habitat survey**\n",
    "For the aquatic habitat survey, in each replicate, **four** 10m^2 areas were surveyed for aquatic habitats. The number of aquatic habitats was recorded, alongside their water volume. \n",
    "\n",
    "<img src=\"AHS.png\" style = \"width:400px; height: 300px\"/>\n",
    "\n",
    "**2) Larval survey**\n",
    "A larval survey was conducted on each aquatic habitat. Here, a standardized dipping method was used to determine the arval abundance. \n",
    "\n",
    "<img src=\"LS.png\" style = \"width:300px; height: 300px\"/>\n",
    "\n",
    "**3) Adult population surveillance**\n",
    "Human landing catches (HLCs) were used to determine adult abundance. Here, the surveyors act as bait for the mosquitoes. For every mosquito that approaches the surveyer, the surveyer uses an electric aspirator to collect the mosquito (before it bites the surveyer!). Thus, at the end of the collection period, the surveyer has a mosquito-filled container. To allow comparisons of mosquito abundance to be made between replicates, the time of day and length of time surveying is standardised. \n",
    "\n",
    "<img src=\"HLC.png\" style = \"width:900px; height: 300px\"/>\n",
    "\n",
    "### Task\n",
    "**Part 1:**\n",
    "Go through the code below and make the neccessary edits, where specified. There are optional extension parts. \n",
    "\n",
    "**Part 2:**\n",
    "Produce a 1-2 page scientific report, addressing whether the collected data supports the hypotheses outlined above. The report should include: \n",
    "* Short introduction \n",
    "* Methods (brief overview of how the data were collected, more in-depth dicussion of choice of model / analysis)\n",
    "* Results (including graphs and discussion of model outputs)\n",
    "* Discussion (i.e. put the results in **context**)"
   ]
  },
  {
   "cell_type": "code",
   "execution_count": null,
   "id": "dabcd1aa-a007-4ea4-b6f0-082a7970c23f",
   "metadata": {
    "tags": []
   },
   "outputs": [],
   "source": [
    "# Import the neccessary librarys / tools\n",
    "# Note that we don't need to install any of these libaries as these have been installed when you selected\n",
    "# use conda environment when cloning the notebook\n",
    "# also do not worry if you recieve any warning messages regarding startup\n",
    "\n",
    "import pandas as pd #this imports the pandas library and aliases it as pd. \n",
    "#Pandas is a which is a data manipulation and analysis tool\n",
    "\n",
    "import matplotlib.pyplot as plt #this imports the matplotlib.pyplot library and aliases it as plt. \n",
    "# matplotlib is a data visualisation tool \n",
    "\n",
    "import seaborn as sns # this imports seaborn and aliases it as sns.\n",
    "# seaborn is a data visualization library based on matplotlib \n",
    "\n",
    "from pymer4.models import Lmer\n",
    "# imports the Lmer function from pymer4, which is the only part of the package we need in this analysis "
   ]
  },
  {
   "cell_type": "markdown",
   "id": "2a56a59a-f4e0-437f-9692-490d0404f5bf",
   "metadata": {
    "tags": []
   },
   "source": [
    "**Step 1: import the dataframes**\n",
    "\n",
    "*These sheets are being imported form google sheets*"
   ]
  },
  {
   "cell_type": "code",
   "execution_count": null,
   "id": "827d51b4-7d32-497b-8221-499d27d6bf4e",
   "metadata": {
    "tags": []
   },
   "outputs": [],
   "source": [
    "# Aquatic Habitat Abundance \n",
    "sheet_id ='1dqcFrvIfF2WVPrKA83ExjGnxAiVKlloP'\n",
    "AH_abundance_df = pd.read_csv(f\"https://docs.google.com/spreadsheets/d/{sheet_id}/export?format=csv\") #format string\n",
    "\n",
    "# Adult Mosquito Data\n",
    "sheet_id_2 = '1Rqp9Bvi9K5-asZhSynNrUxYsNVSW4IWm' \n",
    "Adult_demography_df = pd.read_csv(f\"https://docs.google.com/spreadsheets/d/{sheet_id_2}/export?format=csv\") #format string\n",
    "\n",
    "# Adult and Larval Abundance \n",
    "sheet_id_3 = '1BHoLClHQ46arFSaRhfIAw9yJq9UDDsI6'\n",
    "Adult_larval_df = pd.read_csv(f\"https://docs.google.com/spreadsheets/d/{sheet_id_3}/export?format=csv\") #format string"
   ]
  },
  {
   "cell_type": "markdown",
   "id": "dc69b7ca-0056-4656-bbad-48b36fe24fa3",
   "metadata": {
    "tags": []
   },
   "source": [
    "**Step 2: view the dataframes**\n",
    "\n",
    "In order to view the dataframe, you just need to type the dataframe name. Below I've done this for one of the dataframes. Edit the notebook in order to view the other dataframes. "
   ]
  },
  {
   "cell_type": "code",
   "execution_count": null,
   "id": "405ddb08-e512-40ac-86a8-920aaaf42c3d",
   "metadata": {
    "tags": []
   },
   "outputs": [],
   "source": [
    "# 1) View the Aquatic Habitat Abundance dataframe\n",
    "AH_abundance_df"
   ]
  },
  {
   "cell_type": "markdown",
   "id": "b09377f1-326a-442c-8a52-8ac7a5994d53",
   "metadata": {},
   "source": [
    "Now, edit the code to: "
   ]
  },
  {
   "cell_type": "code",
   "execution_count": null,
   "id": "2f13717a-e9a3-41e3-9feb-0af3697fd7b9",
   "metadata": {},
   "outputs": [],
   "source": [
    "# 2) View the Adult Mosquito dataframe\n"
   ]
  },
  {
   "cell_type": "code",
   "execution_count": null,
   "id": "60f52574-cf61-41e1-a68e-54081b36a826",
   "metadata": {
    "tags": []
   },
   "outputs": [],
   "source": [
    "# 3) View the Adult and Larval Abundance dataframe\n"
   ]
  },
  {
   "cell_type": "markdown",
   "id": "88d192f4-79fe-443c-b084-5b7ea2f81a2e",
   "metadata": {},
   "source": [
    "Details of of datasets: \n",
    "\n",
    "As shown in the study site image (in the introduction), there are two land types: **N (natural) and HS (human settlement)** \n",
    "\n",
    "Within each land type, there are two land subtypes.\n",
    "*  **Natural (N)** sites can either be **fragmented forest (FF)** or **continuous forest (CF)**. \n",
    "* **Human settlements (HS)** can either be a **logged forest human settlement (LF)** or **oil palm (OP)**. \n",
    "\n",
    "Within each land subtype, there are **4 replicates**, each of which have a site name. For example, for natural (N), continous forests (CF) there are 4 replicates, named LFE 706, LFE 707, LFE 708 and LFE 709. At each replicate, sampling is taken at **4 locations**. "
   ]
  },
  {
   "cell_type": "markdown",
   "id": "4ed36876-beb2-4527-9d99-bc494a6e1da6",
   "metadata": {},
   "source": [
    "**Step 3: view the data graphically**\n",
    "\n",
    "Before conducting statistical analysis, it's useful to view the data graphically. This can give you an initial impression of trends that might be present, and thus give an indication of the types of analysis that might be appropriate.\n",
    "\n",
    "\n",
    "Initial question we're going to test the hypothesis: **In comparison to natural sites, human settlements will have more larval habitats**\n",
    "\n",
    "Initially, I made a **boxplot** to compare the number of aquatic habitats between Natural areas and Human Settlements. Note that we have used seaborn (sns) instead of matplotlib to create this plot: https://seaborn.pydata.org/generated/seaborn.boxplot.html, as seaborn is more intuative for some type of plots.\n"
   ]
  },
  {
   "cell_type": "code",
   "execution_count": null,
   "id": "c0f51b5f-9a9c-45cd-a502-0f4502c216e6",
   "metadata": {},
   "outputs": [],
   "source": [
    "# 1. Boxplot comparing the number of aquatic habitats for each land type \n",
    "\n",
    "sns.boxplot(x='Land_type', y='Number_aquatic_habitats', data=AH_abundance_df).set(\n",
    "            xlabel='Land Type', \n",
    "            ylabel='Number Aquatic Habitats')"
   ]
  },
  {
   "cell_type": "markdown",
   "id": "8676ccab-2d98-47aa-b527-fe9889145f9f",
   "metadata": {},
   "source": [
    "Modify the code to make a boxplot comparing the number of aquatic habitats across **land subtypes**. \n",
    "\n",
    "Remember to change the x-axis label!"
   ]
  },
  {
   "cell_type": "code",
   "execution_count": null,
   "id": "08ee8043-4c4c-4e5a-a010-ae2a41e49ecc",
   "metadata": {},
   "outputs": [],
   "source": [
    "# 2. Boxplot comparing the number of aquatic habitats for each land subtype \n"
   ]
  },
  {
   "cell_type": "markdown",
   "id": "e900da11-5c8b-412b-a7fa-635db62ae5e7",
   "metadata": {},
   "source": [
    "**Step 3: Analyse the data**\n",
    "\n",
    "Thus far, visually we've seen that human settlements (HS) have more aquatic habitats than natural sites (N). However, we need to perform formal statistical analysis to determine whether there is a **significant** difference. \n",
    "\n",
    "Here, we're going to use a GLMM (generalised linear mixed model) using the poisson distribution. Look back at the powerpoint for more information. \n",
    "\n",
    "#### (i) Prepare the data for analysis\n",
    "We need to remove data from one of the land subtypes (named FF) from the data frame. This data needs to be excluded, because there are no aquatic habitats within that land subtype. If we left the data of all 0's in the analysis it would not provide valid results, as the Poisson distribution (used for count data) cannot be defined from zeros alone. \n",
    "\n",
    "Thus, we filter the dataset AH_abundance_df so that the land subtype does *not* equal FF."
   ]
  },
  {
   "cell_type": "code",
   "execution_count": null,
   "id": "a374fc9a-9dbf-462d-8067-22426256be31",
   "metadata": {},
   "outputs": [],
   "source": [
    "AH_abundance_df_filtered = AH_abundance_df.loc[AH_abundance_df['Land_subtype'] != 'FF']\n",
    "# The notation'!=' means 'does not equal'. "
   ]
  },
  {
   "cell_type": "code",
   "execution_count": null,
   "id": "53c6fb66-6b8d-40bb-9177-bfe980f94200",
   "metadata": {
    "tags": []
   },
   "outputs": [],
   "source": [
    "# View the dataset\n",
    "AH_abundance_df_filtered"
   ]
  },
  {
   "cell_type": "markdown",
   "id": "929e2da1-ab43-46bc-8380-05f41616d2ee",
   "metadata": {
    "tags": []
   },
   "source": [
    "#### (ii) Fit a GLMM to the data\n",
    "Some Biologists use R (another programming language) when working with GLMMs (generalised linear mixed effects models) and LMMs (linear mixed effects models). \n",
    "\n",
    "While GLMMs and LMMs can be fitted and analysed directly in Python, it's quite a lot harder to code and the results are more difficult to interpret. \n",
    "\n",
    "Here, we use the package *pymer4* which allows you to use R to conduct the analysis, but through the Python interface. Thus,you use R to analyse GLMMs and LMMs, without having to switch between languages. For more information, see: https://eshinjolly.com/pymer4/ and https://towardsdatascience.com/how-to-run-linear-mixed-effects-models-in-python-jupyter-notebooks-4f8079c4b589  "
   ]
  },
  {
   "cell_type": "code",
   "execution_count": null,
   "id": "c937f85d-21b3-4c38-98a2-0335602c8393",
   "metadata": {
    "tags": []
   },
   "outputs": [],
   "source": [
    "# a) Form the model\n",
    "model = Lmer(\"Number_aquatic_habitats ~ Land_type + (1|Land_type/Land_subtype/Replicate)\", data = AH_abundance_df_filtered, family = 'poisson')\n",
    "# Note, we have specified: \n",
    "# Response variable: Number aquatic habitats\n",
    "# Fixed effect: Land subtype \n",
    "# Random effects: Land subtype, clustered within land type \n",
    "# Lmer automatically selects the appropriate link function, which is the logarithm."
   ]
  },
  {
   "cell_type": "markdown",
   "id": "e7a772a6-1d91-4777-84be-311cd32df296",
   "metadata": {},
   "source": [
    "**Coding Structure:**\n",
    "- The basic structure of the code, using the glmer() function, is: *Lmer(\"response variable ~ predictor variable + (1|biggest group / smaller group / smallest group), data = data_name, family = distribution of choice\")*\n",
    "- Here, the **random effects** account for the noise due to the hierarchical sampling design\n",
    "- The **ordering of the random effects is important**. The random effects are written in that order (Land_type/Land_subtype/Replicate), as land type is the largest cluster, which contains multiple land subtypes & each land subtype contains multiple replicates. \n",
    "- The **order shows the clustering** (from big to small) within the sampling design \n",
    "- This attempts to **prevent** the hierarchical sampling design influencing any underlying relationship between the predictor variable (Land Type, fixed effect) and the Response variable (Number of Aquatic Habitats). "
   ]
  },
  {
   "cell_type": "markdown",
   "id": "b933d1ef-f916-4bfa-a573-a3579f0b7ad7",
   "metadata": {},
   "source": [
    "#### (iii) Model output\n",
    "View the output of the model"
   ]
  },
  {
   "cell_type": "code",
   "execution_count": null,
   "id": "ea1c96e0-9db1-42c7-b72f-a60dc43e0462",
   "metadata": {},
   "outputs": [],
   "source": [
    "print(model.fit())"
   ]
  },
  {
   "cell_type": "markdown",
   "id": "9f72195f-4ad5-4c20-a76a-c0e18054cb57",
   "metadata": {
    "tags": []
   },
   "source": [
    "#### (iv) Interpretting the Model Output\n",
    "\n",
    "I have copy & pasted the results from the model: "
   ]
  },
  {
   "cell_type": "code",
   "execution_count": null,
   "id": "342f7f14-796f-426e-89e3-a95ed8eb9447",
   "metadata": {
    "tags": []
   },
   "outputs": [],
   "source": [
    "#Log-likelihood: -65.136 \t AIC: 140.271 - ROW 1 \n",
    "\n",
    "#Random effects: - ROW 2 \n",
    "\n",
    "                                          # Name    Var    Std\n",
    "#Replicate:(Land_subtype:Land_type)  (Intercept)  0.032  0.178 - ROW 3 \n",
    "#Land_subtype:Land_type              (Intercept)  0.026  0.162 - ROW 4 \n",
    "#Land_type                           (Intercept)  0.000  0.000 - ROW 5 \n",
    "\n",
    "#Fixed effects: - ROW 6 \n",
    "\n",
    "#             Estimate  2.5_ci  97.5_ci     SE  Z-stat  P-val  Sig\n",
    "#(Intercept)     1.152   0.799    1.506  0.180   6.387    0.0  *** - ROW 7\n",
    "#Land_typeN     -2.158  -3.103   -1.214  0.482  -4.479    0.0  *** - ROW 8"
   ]
  },
  {
   "cell_type": "markdown",
   "id": "5c3c12ba-34f5-4075-a255-4bf6b0922c77",
   "metadata": {},
   "source": [
    "ROW 1: Model Fit\n",
    "This gives the AIC which is a measure of how well the model fits the data. The smaller the AIC, the better the fit. We won't be using the AIC in this practical, however it can be used in model selection - see https://towardsdatascience.com/introduction-to-aic-akaike-information-criterion-9c9ba1c96ced if you're interested. \n",
    "\n",
    "ROWS 2 - 5: Random Effects\n",
    "This lists the random effects accounted for in the model, and shows the Variation and Standard Deviation associated with each random effect. \n",
    "\n",
    "ROWS 6 - 8: Fixed Effects\n",
    "\n",
    "NOTE: the number of * in the final column (Sig) shows whether the p-value is statistically significant: no * = no significant difference, * = P ≤ 0.05, ** = P ≤ 0.01, *** = P ≤ 0.001, **** = P ≤ 0.0001\n",
    "\n",
    "The output of the model is slightly confusing: \n",
    "* Row 7 is not very relevent to our question here. It determines whether the intercept is significantly different from 0.\n",
    "* Row 8 is highly relevent. It determines whether there is a significant difference between the number of aquatic habitats in natural sites compared to a human settlement. In the 'Sig' column is *** , thus P ≤ 0.001. This shows that there is a significant difference. As the Z-statistic is negative (z = -4.479), there are signficiantly fewer aquatic habitats in natural sites than human settlements. The Z-statistic is calculated by the Estimate (-2.158) / Standard Error (0.482). \n",
    "\n",
    "When reporting this formally, you would include the type of model, z-value, p-value and degrees of freedom (also in the summary (model1) output), e.g. \"There were significantly fewer aquatic habitats in natural habitats than human settlements (GLMM, z = -4.479, P ≤ 0.001, df = 40)\" \n",
    "\n",
    "Things to think about: \n",
    "* Why have we used a generalised linear mixed model (GLMM) rather than a linear mixed model (LMM)? HINT: think about why the poisson distribution is suitable for this dataset, and not the normal distribution \n",
    "* Which are the random and fixed variables?  \n",
    "* Why is the poisson distribution used for this set of data? \n",
    "* What are the degrees of freedom (df), and why are they important to report? "
   ]
  },
  {
   "cell_type": "markdown",
   "id": "5137808d-3a38-4f24-bfab-0af0c901b68b",
   "metadata": {
    "tags": []
   },
   "source": [
    "#### Extension 1\n",
    "\n",
    "The hypotheses are: \n",
    "In comparison to Natural sites, Human settlements will have:\n",
    "1. More larval habitats\n",
    "2. A greater abundance of *Ae. albopictus* larvae  \n",
    "3. A higher density of *Ae. albopictus* adults\n",
    "\n",
    "Thus far, we have addressed the first hypothesis.  \n",
    "\n",
    "Use the graphical and statistical techniques to test the latter two hypotheses. \n",
    "\n",
    "HINT: Make sure to choose the correct distribution for the data. For some guidance, see: https://towardsdatascience.com/understanding-and-choosing-the-right-probability-distributions-with-examples-5051b59b5211  \n",
    "  "
   ]
  },
  {
   "cell_type": "code",
   "execution_count": null,
   "id": "f35810d2-c572-4fe4-99b3-24b57c84c3df",
   "metadata": {},
   "outputs": [],
   "source": [
    "# Testing Hypothesis 2 \n"
   ]
  },
  {
   "cell_type": "code",
   "execution_count": null,
   "id": "25d64cd9-0cfb-47e1-9659-127f4942c3d8",
   "metadata": {},
   "outputs": [],
   "source": [
    "# Testing Hypothesis 3 \n"
   ]
  },
  {
   "cell_type": "markdown",
   "id": "5def757d-95f6-4765-a0b4-6972839c618b",
   "metadata": {
    "tags": []
   },
   "source": [
    "#### Extension 2\n",
    "\n",
    "Think of some more hypotheses and test them! \n",
    "\n",
    "Take a look at data that has not been analysed (e.g. adult wingspan), use your biological knowledge to come up with a hypothesis. "
   ]
  },
  {
   "cell_type": "markdown",
   "id": "84ee8903-a46b-46ce-9740-1ff96168be4f",
   "metadata": {},
   "source": [
    "Hypothesis: "
   ]
  },
  {
   "cell_type": "code",
   "execution_count": null,
   "id": "d2584795-e254-4e0a-913d-25407672f522",
   "metadata": {},
   "outputs": [],
   "source": [
    "# Testing new hypothesis\n"
   ]
  }
 ],
 "metadata": {
  "kernelspec": {
   "display_name": "ecol:Python",
   "language": "python",
   "name": "conda-env-ecol-py"
  },
  "language_info": {
   "codemirror_mode": {
    "name": "ipython",
    "version": 3
   },
   "file_extension": ".py",
   "mimetype": "text/x-python",
   "name": "python",
   "nbconvert_exporter": "python",
   "pygments_lexer": "ipython3",
   "version": "3.9.10"
  }
 },
 "nbformat": 4,
 "nbformat_minor": 5
}
